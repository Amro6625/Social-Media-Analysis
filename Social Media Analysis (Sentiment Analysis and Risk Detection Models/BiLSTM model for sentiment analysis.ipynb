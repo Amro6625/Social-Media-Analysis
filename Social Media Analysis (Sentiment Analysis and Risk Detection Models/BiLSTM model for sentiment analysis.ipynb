{
 "cells": [
  {
   "cell_type": "code",
   "execution_count": 1,
   "id": "35cb2da3",
   "metadata": {},
   "outputs": [],
   "source": [
    "#!pip install transformers requests beautifulsoup4 seaborn nltk tqdm"
   ]
  },
  {
   "cell_type": "code",
   "execution_count": 2,
   "id": "153e901f-9bf0-40cf-abee-af7569767989",
   "metadata": {},
   "outputs": [],
   "source": [
    "#!pip install matplotlib plotly pandas sickit-learn gensim "
   ]
  },
  {
   "cell_type": "code",
   "execution_count": 3,
   "id": "41d7204e",
   "metadata": {},
   "outputs": [],
   "source": [
    "#!pip install torch torchvision torchaudio --index-url https://download.pytorch.org/whl/cu118"
   ]
  },
  {
   "cell_type": "code",
   "execution_count": 57,
   "id": "d05da03a-5493-48b7-b386-ed02d0469e0b",
   "metadata": {},
   "outputs": [],
   "source": [
    "import warnings\n",
    "warnings.filterwarnings('ignore')\n",
    "\n",
    "import pandas as pd \n",
    "import numpy as np \n",
    "import matplotlib.pyplot as plt \n",
    "import seaborn as sns \n",
    "import plotly.express as px\n",
    "from tqdm.auto import tqdm \n",
    "\n",
    "\n",
    "from nltk.corpus import stopwords \n",
    "import re \n",
    "from collections import Counter\n",
    "from string import punctuation\n",
    "import nltk\n",
    "from sklearn.model_selection import train_test_split\n",
    "from sklearn.preprocessing import LabelEncoder, OneHotEncoder \n",
    "from sklearn.metrics import confusion_matrix\n",
    "\n",
    "from gensim.models import Word2Vec\n",
    "from nltk.tokenize import TweetTokenizer\n",
    "import tensorflow as tf \n",
    "from tensorflow import keras \n",
    "from tensorflow.keras.preprocessing.text import Tokenizer \n",
    "from tensorflow.keras.preprocessing.sequence import pad_sequences\n",
    "from tensorflow.keras import Sequential \n",
    "from tensorflow.keras.metrics import Precision, Recall\n",
    "from keras.models import Sequential\n",
    "from tensorflow.keras.layers import Input, Embedding, Bidirectional, LSTM, Dense\n",
    "from tensorflow.keras.models import Model\n",
    "from tensorflow.keras.optimizers import Adam\n",
    "from tensorflow.keras.callbacks import EarlyStopping\n",
    "from sklearn.metrics import classification_report\n",
    "from tensorflow.keras.layers import Dropout\n",
    "from tensorflow.keras.regularizers import l2\n",
    "from sklearn.metrics import accuracy_score\n",
    "from sklearn.metrics import mean_squared_error, mean_absolute_error, r2_score\n",
    "\n",
    "lb = LabelEncoder()"
   ]
  },
  {
   "cell_type": "code",
   "execution_count": 5,
   "id": "a0a75bcb-96a4-4e7b-9d93-fb40b5876444",
   "metadata": {},
   "outputs": [],
   "source": [
    "df = pd.read_csv('twitter_training.csv')"
   ]
  },
  {
   "cell_type": "code",
   "execution_count": 6,
   "id": "2e6ca4cc-d633-42d2-a3b3-7319535a0582",
   "metadata": {},
   "outputs": [],
   "source": [
    "df = df.drop_duplicates(subset=['im getting on borderlands and i will murder you all ,'])"
   ]
  },
  {
   "cell_type": "code",
   "execution_count": 7,
   "id": "5c3f0421-32a8-40a6-bc91-cfeacf0aa68f",
   "metadata": {},
   "outputs": [],
   "source": [
    "df= df.rename(columns={\"Borderlands\":\"Feature2\",\"im getting on borderlands and i will murder you all ,\":\"Feature1\",\"Positive\": \"labels\"})"
   ]
  },
  {
   "cell_type": "code",
   "execution_count": 8,
   "id": "13ccd992-0195-48f2-bb6b-f591639c5859",
   "metadata": {},
   "outputs": [],
   "source": [
    "df[\"tweets\"]= df[\"Feature1\"].astype(str) +\" \"+ df[\"Feature2\"].astype(str)\n",
    "df= df.drop([\"Feature1\",\"Feature2\"],axis=1)\n"
   ]
  },
  {
   "cell_type": "code",
   "execution_count": 9,
   "id": "1b5261c8-7f0d-4c40-9008-f0837e263d40",
   "metadata": {},
   "outputs": [],
   "source": [
    "df['tweet_len'] = [len(text.split()) for text in df.tweets]"
   ]
  },
  {
   "cell_type": "code",
   "execution_count": 10,
   "id": "2b32e1c7-7461-49b7-bcf4-ad8350a549a8",
   "metadata": {},
   "outputs": [],
   "source": [
    "df = df[~(df['tweet_len'] < 5) & ~(df['tweet_len'] > 60)]"
   ]
  },
  {
   "cell_type": "code",
   "execution_count": 11,
   "id": "22a05fa1",
   "metadata": {},
   "outputs": [],
   "source": [
    "# Assuming 'labels' is the column name in your DataFrame\n",
    "df = df[df['labels'] != 'Irrelevant']"
   ]
  },
  {
   "cell_type": "code",
   "execution_count": 12,
   "id": "4411fbf9-5fe7-444a-8a68-e6365331386a",
   "metadata": {},
   "outputs": [
    {
     "data": {
      "text/plain": [
       "{'Negative': 0, 'Neutral': 1, 'Positive': 2}"
      ]
     },
     "execution_count": 12,
     "metadata": {},
     "output_type": "execute_result"
    }
   ],
   "source": [
    "df_labels = {key : value for value , key in enumerate(np.unique(df['labels']))}\n",
    "df_labels"
   ]
  },
  {
   "cell_type": "code",
   "execution_count": 13,
   "id": "f5d12652-21cd-4bec-a6ed-814c43c81d26",
   "metadata": {},
   "outputs": [],
   "source": [
    "# Preprocessing the tweets\n",
    "def preprocess_tweet(tweet):\n",
    "\n",
    "    # Removing the mentions\n",
    "    tweet = re.sub(r'@[\\w]+', '', tweet)\n",
    "\n",
    "    # Removing hashtags\n",
    "    tweet = re.sub(r'#\\w+', '', tweet)\n",
    "    \n",
    "    # Removing URLs\n",
    "    tweet = re.sub(r'https?://\\S+', '', tweet)\n",
    "    \n",
    "    # Remove non-alphabetic characters\n",
    "    tweet = re.sub(r'[^a-zA-Z\\s]', '', tweet)\n",
    "    \n",
    "    tokenizer = TweetTokenizer()\n",
    "    tokens = tokenizer.tokenize(tweet)\n",
    "\n",
    "    stopwords = set(nltk.corpus.stopwords.words('english'))\n",
    "    tokens = [token.lower() for token in tokens if token.lower() not in stopwords]\n",
    "\n",
    "    lemmatizer = nltk.stem.WordNetLemmatizer()\n",
    "    tokens = [lemmatizer.lemmatize(token) for token in tokens]\n",
    "\n",
    "    return ' '.join(tokens)\n",
    "\n",
    "df['Cleaned_Tweet'] = df['tweets'].apply(preprocess_tweet)"
   ]
  },
  {
   "cell_type": "code",
   "execution_count": 14,
   "id": "8b9cbcf6-c434-4c79-9aff-a6f14cf83895",
   "metadata": {},
   "outputs": [],
   "source": [
    "# Initialize LabelEncoder\n",
    "lb = LabelEncoder()\n",
    "\n",
    "# Fit and transform labels\n",
    "df['labels'] = lb.fit_transform(df['labels'].values)\n"
   ]
  },
  {
   "cell_type": "code",
   "execution_count": 15,
   "id": "6495ec28-7419-4c6b-9f8c-33813661428e",
   "metadata": {},
   "outputs": [
    {
     "name": "stdout",
     "output_type": "stream",
     "text": [
      "<class 'pandas.core.frame.DataFrame'>\n",
      "Index: 53286 entries, 0 to 74680\n",
      "Data columns (total 5 columns):\n",
      " #   Column         Non-Null Count  Dtype \n",
      "---  ------         --------------  ----- \n",
      " 0   2401           53286 non-null  int64 \n",
      " 1   labels         53286 non-null  int32 \n",
      " 2   tweets         53286 non-null  object\n",
      " 3   tweet_len      53286 non-null  int64 \n",
      " 4   Cleaned_Tweet  53286 non-null  object\n",
      "dtypes: int32(1), int64(2), object(2)\n",
      "memory usage: 2.2+ MB\n"
     ]
    }
   ],
   "source": [
    "df.info()"
   ]
  },
  {
   "cell_type": "code",
   "execution_count": 16,
   "id": "5be60ff6-ce9b-4ec4-b2a0-2134b1c9ae80",
   "metadata": {},
   "outputs": [
    {
     "data": {
      "text/plain": [
       "array([2, 1, 0])"
      ]
     },
     "execution_count": 16,
     "metadata": {},
     "output_type": "execute_result"
    }
   ],
   "source": [
    "df['labels'].unique()"
   ]
  },
  {
   "cell_type": "code",
   "execution_count": 17,
   "id": "32a7d61c",
   "metadata": {},
   "outputs": [],
   "source": [
    "\n",
    "tweets = df['Cleaned_Tweet'].values\n",
    "labels = df['labels'].values\n",
    "\n",
    "# Tokenize and pad sequences\n",
    "tokenizer = Tokenizer()\n",
    "tokenizer.fit_on_texts(tweets)\n",
    "vocab_size = len(tokenizer.word_index) + 1\n",
    "sequences = tokenizer.texts_to_sequences(tweets)\n",
    "max_length = max(len(seq) for seq in sequences)\n",
    "padded_sequences = pad_sequences(sequences, maxlen=max_length, padding='post')\n",
    "\n",
    "# Converting labels to one-hot encoding or use LabelEncoder\n",
    "label_encoder = LabelEncoder()\n",
    "labels_encoded = label_encoder.fit_transform(labels)\n",
    "labels_onehot = pd.get_dummies(labels_encoded).values\n",
    "\n",
    "# Spliting the data into training and testing sets\n",
    "X_train, X_test, y_train, y_test = train_test_split(\n",
    "    padded_sequences, labels_onehot, test_size=0.2, random_state=42, stratify=labels\n",
    ")\n"
   ]
  },
  {
   "cell_type": "code",
   "execution_count": 18,
   "id": "24da4bbd",
   "metadata": {},
   "outputs": [
    {
     "name": "stdout",
     "output_type": "stream",
     "text": [
      "WARNING:tensorflow:From C:\\Users\\Amro\\anaconda3\\Lib\\site-packages\\keras\\src\\backend.py:1398: The name tf.executing_eagerly_outside_functions is deprecated. Please use tf.compat.v1.executing_eagerly_outside_functions instead.\n",
      "\n"
     ]
    },
    {
     "name": "stderr",
     "output_type": "stream",
     "text": [
      "WARNING:absl:`lr` is deprecated in Keras optimizer, please use `learning_rate` or use the legacy optimizer, e.g.,tf.keras.optimizers.legacy.Adam.\n"
     ]
    },
    {
     "name": "stdout",
     "output_type": "stream",
     "text": [
      "Epoch 1/50\n",
      "WARNING:tensorflow:From C:\\Users\\Amro\\anaconda3\\Lib\\site-packages\\keras\\src\\utils\\tf_utils.py:492: The name tf.ragged.RaggedTensorValue is deprecated. Please use tf.compat.v1.ragged.RaggedTensorValue instead.\n",
      "\n"
     ]
    },
    {
     "name": "stderr",
     "output_type": "stream",
     "text": [
      "WARNING:tensorflow:From C:\\Users\\Amro\\anaconda3\\Lib\\site-packages\\keras\\src\\utils\\tf_utils.py:492: The name tf.ragged.RaggedTensorValue is deprecated. Please use tf.compat.v1.ragged.RaggedTensorValue instead.\n",
      "\n"
     ]
    },
    {
     "name": "stdout",
     "output_type": "stream",
     "text": [
      "WARNING:tensorflow:From C:\\Users\\Amro\\anaconda3\\Lib\\site-packages\\keras\\src\\engine\\base_layer_utils.py:384: The name tf.executing_eagerly_outside_functions is deprecated. Please use tf.compat.v1.executing_eagerly_outside_functions instead.\n",
      "\n"
     ]
    },
    {
     "name": "stderr",
     "output_type": "stream",
     "text": [
      "WARNING:tensorflow:From C:\\Users\\Amro\\anaconda3\\Lib\\site-packages\\keras\\src\\engine\\base_layer_utils.py:384: The name tf.executing_eagerly_outside_functions is deprecated. Please use tf.compat.v1.executing_eagerly_outside_functions instead.\n",
      "\n"
     ]
    },
    {
     "name": "stdout",
     "output_type": "stream",
     "text": [
      "2132/2132 [==============================] - 128s 57ms/step - loss: 0.6595 - accuracy: 0.7278 - val_loss: 0.4393 - val_accuracy: 0.8373\n",
      "Epoch 2/50\n",
      "2132/2132 [==============================] - 120s 56ms/step - loss: 0.2763 - accuracy: 0.9078 - val_loss: 0.3541 - val_accuracy: 0.8739\n",
      "Epoch 3/50\n",
      "2132/2132 [==============================] - 116s 55ms/step - loss: 0.1589 - accuracy: 0.9472 - val_loss: 0.3211 - val_accuracy: 0.8928\n",
      "Epoch 4/50\n",
      "2132/2132 [==============================] - 116s 54ms/step - loss: 0.1038 - accuracy: 0.9670 - val_loss: 0.3571 - val_accuracy: 0.8992\n",
      "Epoch 5/50\n",
      "2132/2132 [==============================] - 117s 55ms/step - loss: 0.0767 - accuracy: 0.9743 - val_loss: 0.3701 - val_accuracy: 0.8924\n",
      "Epoch 6/50\n",
      "2132/2132 [==============================] - 118s 55ms/step - loss: 0.0595 - accuracy: 0.9789 - val_loss: 0.3757 - val_accuracy: 0.9015\n",
      "Epoch 7/50\n",
      "2132/2132 [==============================] - 116s 54ms/step - loss: 0.0443 - accuracy: 0.9849 - val_loss: 0.4233 - val_accuracy: 0.8984\n",
      "Epoch 8/50\n",
      "2132/2132 [==============================] - 116s 55ms/step - loss: 0.0373 - accuracy: 0.9872 - val_loss: 0.4389 - val_accuracy: 0.9015\n"
     ]
    }
   ],
   "source": [
    "# BiLSTM model architecture\n",
    "embedding_dim = 100\n",
    "\n",
    "input_layer = Input(shape=(max_length,))\n",
    "embedding_layer = Embedding(vocab_size, embedding_dim, input_length=max_length)(input_layer)\n",
    "bidirectional_layer_1 = Bidirectional(LSTM(100, return_sequences=True))(embedding_layer)\n",
    "dropout_layer_1 = Dropout(0.5)(bidirectional_layer_1)\n",
    "bidirectional_layer_2 = Bidirectional(LSTM(100, return_sequences=True))(dropout_layer_1)\n",
    "dropout_layer_2 = Dropout(0.5)(bidirectional_layer_2)\n",
    "bidirectional_layer_3 = Bidirectional(LSTM(100))(dropout_layer_2)\n",
    "dropout_layer_3 = Dropout(0.5)(bidirectional_layer_3)\n",
    "output_layer = Dense(3, activation='softmax')(dropout_layer_3)  \n",
    "\n",
    "model = Model(inputs=input_layer, outputs=output_layer)\n",
    "optimizer = Adam(lr=0.0001)  \n",
    "model.compile(optimizer=optimizer, loss='categorical_crossentropy', metrics=['accuracy'])\n",
    "\n",
    "# Defining EarlyStopping callback\n",
    "early_stopping = EarlyStopping(\n",
    "    monitor='val_loss',  \n",
    "    patience=5, \n",
    "    restore_best_weights=True,  \n",
    ")\n",
    "\n",
    "# Training the model with EarlyStopping callback\n",
    "history = model.fit(\n",
    "    X_train, y_train, \n",
    "    epochs=50, \n",
    "    batch_size=16,\n",
    "    validation_split=0.2,\n",
    "    callbacks=[early_stopping],  \n",
    ")"
   ]
  },
  {
   "cell_type": "code",
   "execution_count": 19,
   "id": "2dac931d",
   "metadata": {},
   "outputs": [
    {
     "data": {
      "image/png": "[encoded data removed]",
      "text/plain": [
       "<Figure size 640x480 with 1 Axes>"
      ]
     },
     "metadata": {},
     "output_type": "display_data"
    }
   ],
   "source": [
    "# Plot training history\n",
    "plt.plot(history.history['accuracy'], label='Training Accuracy')\n",
    "plt.plot(history.history['val_accuracy'], label='Validation Accuracy')\n",
    "plt.xlabel('Epoch')\n",
    "plt.ylabel('Accuracy')\n",
    "plt.legend()\n",
    "plt.show()"
   ]
  },
  {
   "cell_type": "code",
   "execution_count": 20,
   "id": "b4aea147",
   "metadata": {},
   "outputs": [
    {
     "name": "stdout",
     "output_type": "stream",
     "text": [
      "334/334 [==============================] - 8s 19ms/step\n",
      "Classification Report:\n",
      "               precision    recall  f1-score   support\n",
      "\n",
      "           0       0.90      0.90      0.90      3936\n",
      "           1       0.90      0.85      0.88      3240\n",
      "           2       0.86      0.91      0.89      3482\n",
      "\n",
      "    accuracy                           0.89     10658\n",
      "   macro avg       0.89      0.89      0.89     10658\n",
      "weighted avg       0.89      0.89      0.89     10658\n",
      "\n"
     ]
    }
   ],
   "source": [
    "# Assuming your model is already trained and you have predictions\n",
    "y_pred = model.predict(X_test)\n",
    "\n",
    "# Convert one-hot encoded predictions back to labels\n",
    "y_pred_labels = np.argmax(y_pred, axis=1)\n",
    "y_test_labels = np.argmax(y_test, axis=1)\n",
    "\n",
    "# Generate classification report\n",
    "report = classification_report(y_test_labels, y_pred_labels)\n",
    "\n",
    "print(\"Classification Report:\\n\", report)"
   ]
  },
  {
   "cell_type": "code",
   "execution_count": 22,
   "id": "1753e4fc",
   "metadata": {},
   "outputs": [],
   "source": [
    "# Loading the new data into a DataFrame\n",
    "new_data = pd.read_excel('output_file_sentiments.xlsx')  \n",
    "\n",
    "new_data = new_data.dropna(subset=['Cleaned_Tweet'])\n",
    "\n",
    "# Extracting the tweets\n",
    "new_tweets = new_data['Cleaned_Tweet'].astype(str).values\n",
    "\n"
   ]
  },
  {
   "cell_type": "code",
   "execution_count": 23,
   "id": "12ef49c7",
   "metadata": {},
   "outputs": [
    {
     "name": "stdout",
     "output_type": "stream",
     "text": [
      "103/103 [==============================] - 2s 18ms/step\n"
     ]
    }
   ],
   "source": [
    "# Tokenizing and adding a pad sequences for the new data \n",
    "new_sequences = tokenizer.texts_to_sequences(new_tweets)\n",
    "new_padded_sequences = pad_sequences(new_sequences, maxlen=max_length, padding='post')\n",
    "\n",
    "# Performing the predictions using the trained model\n",
    "new_predictions = model.predict(new_padded_sequences)\n",
    "\n",
    "# Converting the predictions to labels\n",
    "new_predicted_labels = np.argmax(new_predictions, axis=1)\n",
    "\n",
    "# Map labels back to original sentiment classes using label_encoder\n",
    "new_predicted_sentiments = label_encoder.inverse_transform(new_predicted_labels)\n",
    "\n",
    "# Creating a new column in the new_data DataFrame with the predicted sentiments\n",
    "new_data['Predicted_Sentiment'] = new_predicted_sentiments\n"
   ]
  },
  {
   "cell_type": "code",
   "execution_count": 24,
   "id": "c7ac0e51",
   "metadata": {},
   "outputs": [],
   "source": [
    "# Mapping labels to the desired format\n",
    "sentiment_mapping = {0: 'Negative', 1: 'Neutral', 2: 'Positive'}\n",
    "\n",
    "# Converting the predictions of the new model to the desired format\n",
    "new_predicted_sentiments_mapped = [sentiment_mapping[label] for label in new_predicted_labels]\n",
    "\n",
    "# Creating a new column in the new_data DataFrame with the mapped predicted sentiments\n",
    "new_data['Predicted_Sentiment_Mapped'] = new_predicted_sentiments_mapped"
   ]
  },
  {
   "cell_type": "code",
   "execution_count": 31,
   "id": "1ad4cbf0",
   "metadata": {},
   "outputs": [
    {
     "data": {
      "text/html": [
       "<div>\n",
       "<style scoped>\n",
       "    .dataframe tbody tr th:only-of-type {\n",
       "        vertical-align: middle;\n",
       "    }\n",
       "\n",
       "    .dataframe tbody tr th {\n",
       "        vertical-align: top;\n",
       "    }\n",
       "\n",
       "    .dataframe thead th {\n",
       "        text-align: right;\n",
       "    }\n",
       "</style>\n",
       "<table border=\"1\" class=\"dataframe\">\n",
       "  <thead>\n",
       "    <tr style=\"text-align: right;\">\n",
       "      <th></th>\n",
       "      <th>User</th>\n",
       "      <th>UTC Date</th>\n",
       "      <th>Tweet</th>\n",
       "      <th>Cleaned_Tweet</th>\n",
       "      <th>Negative</th>\n",
       "      <th>Neutral</th>\n",
       "      <th>Positive</th>\n",
       "      <th>Sentiment</th>\n",
       "      <th>Year</th>\n",
       "      <th>Month</th>\n",
       "      <th>Predicted_Sentiment</th>\n",
       "      <th>Predicted_Sentiment_Mapped</th>\n",
       "    </tr>\n",
       "  </thead>\n",
       "  <tbody>\n",
       "    <tr>\n",
       "      <th>0</th>\n",
       "      <td>JCPinHumber/NthYorks</td>\n",
       "      <td>2023-11-08 14:01:00</td>\n",
       "      <td>Procurement Assistant @HumbersideFire in Hull\\...</td>\n",
       "      <td>procurement assistant hull see</td>\n",
       "      <td>0.201464</td>\n",
       "      <td>0.729944</td>\n",
       "      <td>0.068592</td>\n",
       "      <td>Neutral</td>\n",
       "      <td>2023</td>\n",
       "      <td>November</td>\n",
       "      <td>1</td>\n",
       "      <td>Neutral</td>\n",
       "    </tr>\n",
       "    <tr>\n",
       "      <th>1</th>\n",
       "      <td>Kristian Gilmore</td>\n",
       "      <td>2023-11-07 23:01:06</td>\n",
       "      <td>@HallMohame77536 @Sinan05073661 @elquimeras @R...</td>\n",
       "      <td>get launch profile</td>\n",
       "      <td>0.090509</td>\n",
       "      <td>0.796979</td>\n",
       "      <td>0.112513</td>\n",
       "      <td>Neutral</td>\n",
       "      <td>2023</td>\n",
       "      <td>November</td>\n",
       "      <td>2</td>\n",
       "      <td>Positive</td>\n",
       "    </tr>\n",
       "    <tr>\n",
       "      <th>2</th>\n",
       "      <td>Beth</td>\n",
       "      <td>2023-11-07 20:18:02</td>\n",
       "      <td>What an achievement for Our Rookie Mary, she h...</td>\n",
       "      <td>achievement rookie mary done amazingly persona...</td>\n",
       "      <td>0.001917</td>\n",
       "      <td>0.037708</td>\n",
       "      <td>0.960376</td>\n",
       "      <td>Positive</td>\n",
       "      <td>2023</td>\n",
       "      <td>November</td>\n",
       "      <td>1</td>\n",
       "      <td>Neutral</td>\n",
       "    </tr>\n",
       "    <tr>\n",
       "      <th>3</th>\n",
       "      <td>Delta Strand</td>\n",
       "      <td>2023-11-06 23:52:56</td>\n",
       "      <td>We are so excited that our firework night is f...</td>\n",
       "      <td>excited firework night finally</td>\n",
       "      <td>0.001157</td>\n",
       "      <td>0.016633</td>\n",
       "      <td>0.982210</td>\n",
       "      <td>Positive</td>\n",
       "      <td>2023</td>\n",
       "      <td>November</td>\n",
       "      <td>2</td>\n",
       "      <td>Positive</td>\n",
       "    </tr>\n",
       "    <tr>\n",
       "      <th>4</th>\n",
       "      <td>Vicky Shakesby MBE</td>\n",
       "      <td>2023-11-06 20:05:44</td>\n",
       "      <td>Presented CM Walker his 30 year long service c...</td>\n",
       "      <td>presented cm walker year long service clasp ev...</td>\n",
       "      <td>0.004754</td>\n",
       "      <td>0.239910</td>\n",
       "      <td>0.755336</td>\n",
       "      <td>Positive</td>\n",
       "      <td>2023</td>\n",
       "      <td>November</td>\n",
       "      <td>2</td>\n",
       "      <td>Positive</td>\n",
       "    </tr>\n",
       "    <tr>\n",
       "      <th>...</th>\n",
       "      <td>...</td>\n",
       "      <td>...</td>\n",
       "      <td>...</td>\n",
       "      <td>...</td>\n",
       "      <td>...</td>\n",
       "      <td>...</td>\n",
       "      <td>...</td>\n",
       "      <td>...</td>\n",
       "      <td>...</td>\n",
       "      <td>...</td>\n",
       "      <td>...</td>\n",
       "      <td>...</td>\n",
       "    </tr>\n",
       "    <tr>\n",
       "      <th>3284</th>\n",
       "      <td>Tony Clark QFSM</td>\n",
       "      <td>2019-11-10 13:44:52</td>\n",
       "      <td>Fantastic turnout #RemembranceSunday at Howden...</td>\n",
       "      <td>fantastic turnout howden</td>\n",
       "      <td>0.021842</td>\n",
       "      <td>0.232031</td>\n",
       "      <td>0.746126</td>\n",
       "      <td>Positive</td>\n",
       "      <td>2019</td>\n",
       "      <td>November</td>\n",
       "      <td>2</td>\n",
       "      <td>Positive</td>\n",
       "    </tr>\n",
       "    <tr>\n",
       "      <th>3285</th>\n",
       "      <td>HFR Solutions CIC</td>\n",
       "      <td>2019-11-10 09:45:06</td>\n",
       "      <td>On Remembrance Sunday, we are extremely proud ...</td>\n",
       "      <td>remembrance sunday extremely proud sponsored w...</td>\n",
       "      <td>0.001497</td>\n",
       "      <td>0.024751</td>\n",
       "      <td>0.973752</td>\n",
       "      <td>Positive</td>\n",
       "      <td>2019</td>\n",
       "      <td>November</td>\n",
       "      <td>2</td>\n",
       "      <td>Positive</td>\n",
       "    </tr>\n",
       "    <tr>\n",
       "      <th>3286</th>\n",
       "      <td>Lyndsay Howden</td>\n",
       "      <td>2019-11-10 09:01:56</td>\n",
       "      <td>Proud to represent @HumbersideFire at the Clee...</td>\n",
       "      <td>proud represent cleethorpes rememberance event...</td>\n",
       "      <td>0.003184</td>\n",
       "      <td>0.059507</td>\n",
       "      <td>0.937308</td>\n",
       "      <td>Positive</td>\n",
       "      <td>2019</td>\n",
       "      <td>November</td>\n",
       "      <td>2</td>\n",
       "      <td>Positive</td>\n",
       "    </tr>\n",
       "    <tr>\n",
       "      <th>3287</th>\n",
       "      <td>Lesley Tidder</td>\n",
       "      <td>2019-11-09 21:46:38</td>\n",
       "      <td>@HumbersideFire I work at a homeless hostel, r...</td>\n",
       "      <td>work homeless hostel resident heard gentleman ...</td>\n",
       "      <td>0.034116</td>\n",
       "      <td>0.380350</td>\n",
       "      <td>0.585534</td>\n",
       "      <td>Positive</td>\n",
       "      <td>2019</td>\n",
       "      <td>November</td>\n",
       "      <td>0</td>\n",
       "      <td>Negative</td>\n",
       "    </tr>\n",
       "    <tr>\n",
       "      <th>3288</th>\n",
       "      <td>UK USA FIRE &amp; POLICE</td>\n",
       "      <td>2019-11-09 08:48:44</td>\n",
       "      <td>1 confirmed #fatality so far from #England #fl...</td>\n",
       "      <td>confirmed far like one going</td>\n",
       "      <td>0.053573</td>\n",
       "      <td>0.680126</td>\n",
       "      <td>0.266302</td>\n",
       "      <td>Neutral</td>\n",
       "      <td>2019</td>\n",
       "      <td>November</td>\n",
       "      <td>1</td>\n",
       "      <td>Neutral</td>\n",
       "    </tr>\n",
       "  </tbody>\n",
       "</table>\n",
       "<p>3283 rows × 12 columns</p>\n",
       "</div>"
      ],
      "text/plain": [
       "                      User            UTC Date  \\\n",
       "0     JCPinHumber/NthYorks 2023-11-08 14:01:00   \n",
       "1         Kristian Gilmore 2023-11-07 23:01:06   \n",
       "2                     Beth 2023-11-07 20:18:02   \n",
       "3             Delta Strand 2023-11-06 23:52:56   \n",
       "4       Vicky Shakesby MBE 2023-11-06 20:05:44   \n",
       "...                    ...                 ...   \n",
       "3284       Tony Clark QFSM 2019-11-10 13:44:52   \n",
       "3285     HFR Solutions CIC 2019-11-10 09:45:06   \n",
       "3286        Lyndsay Howden 2019-11-10 09:01:56   \n",
       "3287         Lesley Tidder 2019-11-09 21:46:38   \n",
       "3288  UK USA FIRE & POLICE 2019-11-09 08:48:44   \n",
       "\n",
       "                                                  Tweet  \\\n",
       "0     Procurement Assistant @HumbersideFire in Hull\\...   \n",
       "1     @HallMohame77536 @Sinan05073661 @elquimeras @R...   \n",
       "2     What an achievement for Our Rookie Mary, she h...   \n",
       "3     We are so excited that our firework night is f...   \n",
       "4     Presented CM Walker his 30 year long service c...   \n",
       "...                                                 ...   \n",
       "3284  Fantastic turnout #RemembranceSunday at Howden...   \n",
       "3285  On Remembrance Sunday, we are extremely proud ...   \n",
       "3286  Proud to represent @HumbersideFire at the Clee...   \n",
       "3287  @HumbersideFire I work at a homeless hostel, r...   \n",
       "3288  1 confirmed #fatality so far from #England #fl...   \n",
       "\n",
       "                                          Cleaned_Tweet  Negative   Neutral  \\\n",
       "0                        procurement assistant hull see  0.201464  0.729944   \n",
       "1                                    get launch profile  0.090509  0.796979   \n",
       "2     achievement rookie mary done amazingly persona...  0.001917  0.037708   \n",
       "3                        excited firework night finally  0.001157  0.016633   \n",
       "4     presented cm walker year long service clasp ev...  0.004754  0.239910   \n",
       "...                                                 ...       ...       ...   \n",
       "3284                           fantastic turnout howden  0.021842  0.232031   \n",
       "3285  remembrance sunday extremely proud sponsored w...  0.001497  0.024751   \n",
       "3286  proud represent cleethorpes rememberance event...  0.003184  0.059507   \n",
       "3287  work homeless hostel resident heard gentleman ...  0.034116  0.380350   \n",
       "3288                       confirmed far like one going  0.053573  0.680126   \n",
       "\n",
       "      Positive Sentiment  Year     Month  Predicted_Sentiment  \\\n",
       "0     0.068592   Neutral  2023  November                    1   \n",
       "1     0.112513   Neutral  2023  November                    2   \n",
       "2     0.960376  Positive  2023  November                    1   \n",
       "3     0.982210  Positive  2023  November                    2   \n",
       "4     0.755336  Positive  2023  November                    2   \n",
       "...        ...       ...   ...       ...                  ...   \n",
       "3284  0.746126  Positive  2019  November                    2   \n",
       "3285  0.973752  Positive  2019  November                    2   \n",
       "3286  0.937308  Positive  2019  November                    2   \n",
       "3287  0.585534  Positive  2019  November                    0   \n",
       "3288  0.266302   Neutral  2019  November                    1   \n",
       "\n",
       "     Predicted_Sentiment_Mapped  \n",
       "0                       Neutral  \n",
       "1                      Positive  \n",
       "2                       Neutral  \n",
       "3                      Positive  \n",
       "4                      Positive  \n",
       "...                         ...  \n",
       "3284                   Positive  \n",
       "3285                   Positive  \n",
       "3286                   Positive  \n",
       "3287                   Negative  \n",
       "3288                    Neutral  \n",
       "\n",
       "[3283 rows x 12 columns]"
      ]
     },
     "execution_count": 31,
     "metadata": {},
     "output_type": "execute_result"
    }
   ],
   "source": [
    "new_data"
   ]
  },
  {
   "cell_type": "code",
   "execution_count": 26,
   "id": "f330a286",
   "metadata": {},
   "outputs": [
    {
     "data": {
      "text/plain": [
       "Predicted_Sentiment\n",
       "2    1803\n",
       "1     781\n",
       "0     699\n",
       "Name: count, dtype: int64"
      ]
     },
     "execution_count": 26,
     "metadata": {},
     "output_type": "execute_result"
    }
   ],
   "source": [
    "new_data['Predicted_Sentiment'].value_counts()"
   ]
  },
  {
   "cell_type": "code",
   "execution_count": 27,
   "id": "97dfb5ea",
   "metadata": {},
   "outputs": [
    {
     "name": "stdout",
     "output_type": "stream",
     "text": [
      "Actual Labels: ['negative', 'neutral', 'positive']\n",
      "Predicted Labels: ['Negative', 'Neutral', 'Positive']\n"
     ]
    }
   ],
   "source": [
    "# Extract unique labels from the actual sentiments and predicted sentiments\n",
    "actual_labels = sorted(new_data['Sentiment'].unique())\n",
    "predicted_labels = sorted(new_data['Predicted_Sentiment_Mapped'].unique())\n",
    "\n",
    "# Print unique labels\n",
    "print(\"Actual Labels:\", actual_labels)\n",
    "print(\"Predicted Labels:\", predicted_labels)\n"
   ]
  },
  {
   "cell_type": "code",
   "execution_count": 28,
   "id": "c881f606",
   "metadata": {},
   "outputs": [
    {
     "name": "stdout",
     "output_type": "stream",
     "text": [
      "Actual Labels: ['Negative', 'Neutral', 'Positive']\n",
      "Predicted Labels: ['Negative', 'Neutral', 'Positive']\n"
     ]
    }
   ],
   "source": [
    "# Convert actual labels to title case to match predicted labels\n",
    "new_data['Sentiment'] = new_data['Sentiment'].apply(lambda x: x.title())\n",
    "\n",
    "# Extract unique labels from the actual sentiments and predicted sentiments\n",
    "actual_labels = sorted(new_data['Sentiment'].unique())\n",
    "predicted_labels = sorted(new_data['Predicted_Sentiment_Mapped'].unique())\n",
    "\n",
    "# Print unique labels\n",
    "print(\"Actual Labels:\", actual_labels)\n",
    "print(\"Predicted Labels:\", predicted_labels)\n"
   ]
  },
  {
   "cell_type": "code",
   "execution_count": 29,
   "id": "c582161e",
   "metadata": {},
   "outputs": [
    {
     "data": {
      "image/png": "[encoded data removed]",
      "text/plain": [
       "<Figure size 640x480 with 2 Axes>"
      ]
     },
     "metadata": {},
     "output_type": "display_data"
    }
   ],
   "source": [
    "# Confusion matrix\n",
    "conf_matrix = confusion_matrix(new_data['Sentiment'], new_data['Predicted_Sentiment_Mapped'], labels=actual_labels)\n",
    "\n",
    "# Plotting the confusion matrix\n",
    "sns.heatmap(conf_matrix, annot=True, fmt='d', cmap='Blues', xticklabels=actual_labels, yticklabels=actual_labels)\n",
    "plt.xlabel('Predicted')\n",
    "plt.ylabel('Actual')\n",
    "plt.title('Confusion Matrix')\n",
    "plt.show()"
   ]
  },
  {
   "cell_type": "code",
   "execution_count": 30,
   "id": "bd46ae9a",
   "metadata": {},
   "outputs": [
    {
     "data": {
      "image/png": "[encoded data removed]",
      "text/plain": [
       "<Figure size 1000x800 with 2 Axes>"
      ]
     },
     "metadata": {},
     "output_type": "display_data"
    }
   ],
   "source": [
    "# Set up the figure and axes\n",
    "fig, (ax1, ax2) = plt.subplots(nrows=2, figsize=(10, 8), sharex=True)\n",
    "\n",
    "# Plot the histogram for actual sentiments\n",
    "sns.histplot(new_data['Sentiment'], bins=3, kde=False, color='blue', ax=ax1)\n",
    "ax1.set_title('Actual Sentiments Histogram')\n",
    "\n",
    "# Plot the histogram for predicted sentiments\n",
    "sns.histplot(new_data['Predicted_Sentiment_Mapped'], bins=3, kde=False, color='orange', ax=ax2)\n",
    "ax2.set_title('Predicted Sentiments Histogram')\n",
    "\n",
    "plt.xlabel('Sentiments')\n",
    "\n",
    "plt.tight_layout()\n",
    "plt.show()"
   ]
  },
  {
   "cell_type": "code",
   "execution_count": null,
   "id": "935e4ce1",
   "metadata": {},
   "outputs": [],
   "source": [
    "mismatched_samples = new_data[new_data['Sentiment'] != new_data['Predicted_Sentiment_Mapped']]\n",
    "\n",
    "# Print out a sample of the mismatched tweets\n",
    "for index, row in mismatched_samples.sample(30).iterrows():\n",
    "    print(f\"Tweet: {row['Tweet']}\")\n",
    "    print(f\"Actual Sentiment: {row['Sentiment']}, Predicted Sentiment: {row['Predicted_Sentiment_Mapped']}\")\n",
    "    print('-' * 50)\n"
   ]
  },
  {
   "cell_type": "code",
   "execution_count": 35,
   "id": "f45f0c01-6cd5-466d-9f3c-41e15983bbd7",
   "metadata": {},
   "outputs": [
    {
     "data": {
      "image/png": "[encoded data removed]",
      "text/plain": [
       "<Figure size 640x480 with 1 Axes>"
      ]
     },
     "metadata": {},
     "output_type": "display_data"
    },
    {
     "data": {
      "image/png": "[encoded data removed]",
      "text/plain": [
       "<Figure size 640x480 with 1 Axes>"
      ]
     },
     "metadata": {},
     "output_type": "display_data"
    }
   ],
   "source": [
    "import matplotlib.pyplot as plt\n",
    "\n",
    "# Plot training & validation accuracy values\n",
    "plt.plot(history.history['accuracy'])\n",
    "plt.plot(history.history['val_accuracy'])\n",
    "plt.title('Model accuracy')\n",
    "plt.xlabel('Epoch')\n",
    "plt.ylabel('Accuracy')\n",
    "plt.legend(['Train', 'Validation'], loc='upper left')\n",
    "plt.show()\n",
    "\n",
    "# Plot training & validation loss values\n",
    "plt.plot(history.history['loss'])\n",
    "plt.plot(history.history['val_loss'])\n",
    "plt.title('Model loss')\n",
    "plt.xlabel('Epoch')\n",
    "plt.ylabel('Loss')\n",
    "plt.legend(['Train', 'Validation'], loc='upper left')\n",
    "plt.show()\n"
   ]
  },
  {
   "cell_type": "code",
   "execution_count": 34,
   "id": "df07d6e5-a49d-401b-9b3e-d745e01233bb",
   "metadata": {},
   "outputs": [
    {
     "data": {
      "image/png": "[encoded data removed]",
      "text/plain": [
       "<Figure size 640x480 with 1 Axes>"
      ]
     },
     "metadata": {},
     "output_type": "display_data"
    }
   ],
   "source": [
    "sentiment_counts = new_data['Predicted_Sentiment_Mapped'].value_counts()\n",
    "sentiment_counts.plot(kind='pie', autopct='%1.1f%%', startangle=90, colors=['red', 'gray', 'green'])\n",
    "plt.title('Sentiment Distribution BiLSTM Model')\n",
    "plt.axis('equal')  \n",
    "\n",
    "plt.savefig('Sentiment Distribution BiLSTM Model.png')\n",
    "plt.show()\n"
   ]
  },
  {
   "cell_type": "code",
   "execution_count": 36,
   "id": "3cd83453",
   "metadata": {},
   "outputs": [
    {
     "data": {
      "image/png": "[encoded data removed]",
      "text/plain": [
       "<Figure size 640x480 with 1 Axes>"
      ]
     },
     "metadata": {},
     "output_type": "display_data"
    }
   ],
   "source": [
    "sentiment_counts = new_data['Predicted_Sentiment_Mapped'].value_counts()\n",
    "sentiment_counts.plot(kind='bar', color=['red', 'gray', 'green'])\n",
    "plt.title('Sentiment Distribution BiLSTM Model')\n",
    "plt.xlabel('Sentiment')\n",
    "plt.ylabel('Count')\n",
    "\n",
    "# Optionally, you can annotate the bars with their respective counts\n",
    "for i, count in enumerate(sentiment_counts):\n",
    "    plt.text(i, count + 0.1, str(count), ha='center', va='bottom')\n",
    "\n",
    "plt.savefig('Sentiment Distribution BiLSTM Model.png')\n",
    "plt.show()"
   ]
  },
  {
   "cell_type": "code",
   "execution_count": 42,
   "id": "4060d03a",
   "metadata": {},
   "outputs": [
    {
     "data": {
      "image/png": "[encoded data removed]",
      "text/plain": [
       "<Figure size 640x480 with 1 Axes>"
      ]
     },
     "metadata": {},
     "output_type": "display_data"
    }
   ],
   "source": [
    "sentiment_counts = new_data['Predicted_Sentiment_Mapped'].value_counts(normalize=True) * 100\n",
    "colors = ['skyblue', 'lightcoral', 'lightgreen']\n",
    "\n",
    "sentiment_counts.plot(kind='bar', color=colors, width=0.8)\n",
    "plt.title('Sentiment Distribution BiLSTM Model')\n",
    "plt.xlabel('Sentiment')\n",
    "plt.ylabel('Percentage')\n",
    "\n",
    "# Optionally, you can annotate the bars with their respective percentages\n",
    "for i, percent in enumerate(sentiment_counts):\n",
    "    plt.text(i, percent + 0.1, f'{percent:.1f}%', ha='center', va='bottom')\n",
    "\n",
    "plt.savefig('Sentiment Distribution BiLSTM Model.png')\n",
    "plt.show()"
   ]
  },
  {
   "cell_type": "markdown",
   "id": "fbf7cfd4",
   "metadata": {},
   "source": [
    "# XLNET Model for Risk Detection"
   ]
  },
  {
   "cell_type": "code",
   "execution_count": 43,
   "id": "4f8fd561",
   "metadata": {},
   "outputs": [],
   "source": [
    "# Loading the Excel file\n",
    "df = pd.read_excel('negative_sentiments.xlsx')"
   ]
  },
  {
   "cell_type": "code",
   "execution_count": 44,
   "id": "09db2aeb",
   "metadata": {},
   "outputs": [
    {
     "name": "stdout",
     "output_type": "stream",
     "text": [
      "<class 'pandas.core.frame.DataFrame'>\n",
      "RangeIndex: 209 entries, 0 to 208\n",
      "Data columns (total 8 columns):\n",
      " #   Column         Non-Null Count  Dtype  \n",
      "---  ------         --------------  -----  \n",
      " 0   User           209 non-null    object \n",
      " 1   Tweet          209 non-null    object \n",
      " 2   Cleaned_Tweet  209 non-null    object \n",
      " 3   Negative       209 non-null    float64\n",
      " 4   Neutral        209 non-null    float64\n",
      " 5   Positive       209 non-null    float64\n",
      " 6   Sentiment      209 non-null    object \n",
      " 7   Label          151 non-null    float64\n",
      "dtypes: float64(4), object(4)\n",
      "memory usage: 13.2+ KB\n"
     ]
    }
   ],
   "source": [
    "df.info()"
   ]
  },
  {
   "cell_type": "code",
   "execution_count": 45,
   "id": "3de4eda0",
   "metadata": {},
   "outputs": [],
   "source": [
    "# Separating labeled and unlabeled data\n",
    "predict_df = df[df['Label'].isna()]\n",
    "train_df = df.dropna(subset=['Label'])"
   ]
  },
  {
   "cell_type": "code",
   "execution_count": 46,
   "id": "18e7d0ba",
   "metadata": {},
   "outputs": [],
   "source": [
    "# Tokenizing and prepare data for training\n",
    "tokenizer_new = Tokenizer()\n",
    "tokenizer_new.fit_on_texts(train_df['Cleaned_Tweet'])\n",
    "vocab_size_new = len(tokenizer_new.word_index) + 1"
   ]
  },
  {
   "cell_type": "code",
   "execution_count": 47,
   "id": "befde9f3",
   "metadata": {},
   "outputs": [],
   "source": [
    "# Tokenizing unigrams\n",
    "X_unigrams_new = tokenizer_new.texts_to_sequences(train_df['Cleaned_Tweet'])\n",
    "X_unigrams_new = pad_sequences(X_unigrams_new, padding='post', truncating='post', maxlen=128)"
   ]
  },
  {
   "cell_type": "code",
   "execution_count": 48,
   "id": "d13679de",
   "metadata": {},
   "outputs": [],
   "source": [
    "# Creating bigrams \n",
    "X_bigrams_new = []\n",
    "for tweet_tokens in zip(train_df['Cleaned_Tweet'].str.split(), train_df['Cleaned_Tweet'].str.split().shift(-1)):\n",
    "    bigram_sequence = tokenizer_new.texts_to_sequences([' '.join(map(str, tweet_tokens))])\n",
    "    X_bigrams_new.extend(bigram_sequence)\n",
    "\n",
    "X_bigrams_new = pad_sequences(X_bigrams_new, padding='post', truncating='post', maxlen=128)"
   ]
  },
  {
   "cell_type": "code",
   "execution_count": 50,
   "id": "8fa47ad4",
   "metadata": {},
   "outputs": [],
   "source": [
    "# Creating trigrams\n",
    "X_trigrams_new = []\n",
    "for tweet_tokens in zip(train_df['Cleaned_Tweet'].str.split(), train_df['Cleaned_Tweet'].str.split().shift(-1), train_df['Cleaned_Tweet'].str.split().shift(-2)):\n",
    "    trigram_sequence = tokenizer_new.texts_to_sequences([' '.join(map(str, tweet_tokens))])\n",
    "    X_trigrams_new.extend(trigram_sequence)\n",
    "\n",
    "X_trigrams_new = pad_sequences(X_trigrams_new, padding='post', truncating='post', maxlen=128)"
   ]
  },
  {
   "cell_type": "code",
   "execution_count": 51,
   "id": "2011e9a3",
   "metadata": {},
   "outputs": [],
   "source": [
    "# Concatenating unigrams, bigrams, and trigrams\n",
    "X_combined_new = np.concatenate([X_unigrams_new, X_bigrams_new, X_trigrams_new], axis=1)\n",
    "\n",
    "y_new = train_df['Label'].values"
   ]
  },
  {
   "cell_type": "code",
   "execution_count": 52,
   "id": "b9fda41d",
   "metadata": {},
   "outputs": [],
   "source": [
    "# Splitting the training data into train and validation sets\n",
    "X_train_new, X_val_new, y_train_new, y_val_new = train_test_split(X_combined_new, y_new, test_size=0.1, random_state=42)"
   ]
  },
  {
   "cell_type": "code",
   "execution_count": 53,
   "id": "81dac859",
   "metadata": {},
   "outputs": [],
   "source": [
    "# Defining the BiLSTM model with three layers and dropout\n",
    "embedding_dim_new = 50\n",
    "\n",
    "inputs_new = Input(shape=(384,))  \n",
    "embedding_layer_new = Embedding(input_dim=vocab_size_new, output_dim=embedding_dim_new, input_length=384)(inputs_new)\n",
    "bi_lstm_1_new = Bidirectional(LSTM(64, return_sequences=True))(embedding_layer_new)\n",
    "dropout_1_new = Dropout(0.5)(bi_lstm_1_new)\n",
    "bi_lstm_2_new = Bidirectional(LSTM(64, return_sequences=True))(dropout_1_new)\n",
    "dropout_2_new = Dropout(0.5)(bi_lstm_2_new)\n",
    "bi_lstm_3_new = Bidirectional(LSTM(64))(dropout_2_new)\n",
    "dropout_final_new = Dropout(0.5)(bi_lstm_3_new)\n",
    "outputs_new = Dense(1, activation='sigmoid')(dropout_final_new)\n"
   ]
  },
  {
   "cell_type": "code",
   "execution_count": 54,
   "id": "1b62369d",
   "metadata": {},
   "outputs": [
    {
     "name": "stdout",
     "output_type": "stream",
     "text": [
      "WARNING:tensorflow:From C:\\Users\\Amro\\anaconda3\\Lib\\site-packages\\keras\\src\\optimizers\\__init__.py:309: The name tf.train.Optimizer is deprecated. Please use tf.compat.v1.train.Optimizer instead.\n",
      "\n"
     ]
    },
    {
     "name": "stderr",
     "output_type": "stream",
     "text": [
      "WARNING:tensorflow:From C:\\Users\\Amro\\anaconda3\\Lib\\site-packages\\keras\\src\\optimizers\\__init__.py:309: The name tf.train.Optimizer is deprecated. Please use tf.compat.v1.train.Optimizer instead.\n",
      "\n"
     ]
    },
    {
     "name": "stdout",
     "output_type": "stream",
     "text": [
      "Epoch 1/25\n",
      "17/17 [==============================] - 15s 297ms/step - loss: 0.6021 - accuracy: 0.7704 - val_loss: 0.2220 - val_accuracy: 0.9375\n",
      "Epoch 2/25\n",
      "17/17 [==============================] - 3s 195ms/step - loss: 0.5683 - accuracy: 0.7630 - val_loss: 0.4094 - val_accuracy: 0.9375\n",
      "Epoch 3/25\n",
      "17/17 [==============================] - 3s 198ms/step - loss: 0.5225 - accuracy: 0.7630 - val_loss: 0.2658 - val_accuracy: 0.9375\n",
      "Epoch 4/25\n",
      "17/17 [==============================] - 3s 199ms/step - loss: 0.4455 - accuracy: 0.7852 - val_loss: 0.2516 - val_accuracy: 0.9375\n",
      "Epoch 5/25\n",
      "17/17 [==============================] - 3s 204ms/step - loss: 0.2095 - accuracy: 0.9481 - val_loss: 0.7196 - val_accuracy: 0.8125\n",
      "Epoch 6/25\n",
      "17/17 [==============================] - 3s 199ms/step - loss: 0.1469 - accuracy: 0.9704 - val_loss: 0.5164 - val_accuracy: 0.8750\n",
      "Epoch 7/25\n",
      "17/17 [==============================] - 3s 200ms/step - loss: 0.0452 - accuracy: 0.9926 - val_loss: 0.3590 - val_accuracy: 0.9375\n",
      "Epoch 8/25\n",
      "17/17 [==============================] - 3s 200ms/step - loss: 0.0110 - accuracy: 1.0000 - val_loss: 0.8872 - val_accuracy: 0.8125\n",
      "Epoch 9/25\n",
      "17/17 [==============================] - 3s 199ms/step - loss: 0.0060 - accuracy: 1.0000 - val_loss: 0.9926 - val_accuracy: 0.8125\n",
      "Epoch 10/25\n",
      "17/17 [==============================] - 3s 199ms/step - loss: 0.0049 - accuracy: 1.0000 - val_loss: 1.0629 - val_accuracy: 0.8125\n",
      "Epoch 11/25\n",
      "17/17 [==============================] - 3s 198ms/step - loss: 0.0028 - accuracy: 1.0000 - val_loss: 1.1144 - val_accuracy: 0.8125\n",
      "Epoch 12/25\n",
      "17/17 [==============================] - 3s 200ms/step - loss: 0.0023 - accuracy: 1.0000 - val_loss: 1.1533 - val_accuracy: 0.8125\n",
      "Epoch 13/25\n",
      "17/17 [==============================] - 3s 198ms/step - loss: 0.0017 - accuracy: 1.0000 - val_loss: 1.1883 - val_accuracy: 0.8125\n",
      "Epoch 14/25\n",
      "17/17 [==============================] - 3s 196ms/step - loss: 0.0016 - accuracy: 1.0000 - val_loss: 1.2188 - val_accuracy: 0.8125\n",
      "Epoch 15/25\n",
      "17/17 [==============================] - 3s 197ms/step - loss: 0.0013 - accuracy: 1.0000 - val_loss: 1.2474 - val_accuracy: 0.8125\n",
      "Epoch 16/25\n",
      "17/17 [==============================] - 3s 198ms/step - loss: 0.0015 - accuracy: 1.0000 - val_loss: 1.2796 - val_accuracy: 0.8125\n",
      "Epoch 17/25\n",
      "17/17 [==============================] - 3s 197ms/step - loss: 0.0010 - accuracy: 1.0000 - val_loss: 1.3058 - val_accuracy: 0.8125\n",
      "Epoch 18/25\n",
      "17/17 [==============================] - 3s 205ms/step - loss: 8.7528e-04 - accuracy: 1.0000 - val_loss: 1.3277 - val_accuracy: 0.8125\n",
      "Epoch 19/25\n",
      "17/17 [==============================] - 3s 198ms/step - loss: 6.7145e-04 - accuracy: 1.0000 - val_loss: 1.3462 - val_accuracy: 0.8125\n",
      "Epoch 20/25\n",
      "17/17 [==============================] - 3s 196ms/step - loss: 7.7752e-04 - accuracy: 1.0000 - val_loss: 1.3633 - val_accuracy: 0.8125\n",
      "Epoch 21/25\n",
      "17/17 [==============================] - 3s 198ms/step - loss: 6.5769e-04 - accuracy: 1.0000 - val_loss: 1.3803 - val_accuracy: 0.8125\n",
      "Epoch 22/25\n",
      "17/17 [==============================] - 3s 198ms/step - loss: 5.7680e-04 - accuracy: 1.0000 - val_loss: 1.3984 - val_accuracy: 0.8125\n",
      "Epoch 23/25\n",
      "17/17 [==============================] - 3s 196ms/step - loss: 5.3715e-04 - accuracy: 1.0000 - val_loss: 1.4147 - val_accuracy: 0.8125\n",
      "Epoch 24/25\n",
      "17/17 [==============================] - 3s 196ms/step - loss: 5.8523e-04 - accuracy: 1.0000 - val_loss: 1.4317 - val_accuracy: 0.8125\n",
      "Epoch 25/25\n",
      "17/17 [==============================] - 3s 197ms/step - loss: 5.3789e-04 - accuracy: 1.0000 - val_loss: 1.4487 - val_accuracy: 0.8125\n"
     ]
    }
   ],
   "source": [
    "# Compiling the model\n",
    "model_new = Model(inputs=inputs_new, outputs=outputs_new)\n",
    "model_new.compile(optimizer='adam', loss='binary_crossentropy', metrics=['accuracy'])\n",
    "\n",
    "# Training the BiLSTM model with early stopping\n",
    "epochs_new = 25\n",
    "batch_size_new = 8\n",
    "\n",
    "history_new = model_new.fit(\n",
    "    X_train_new, y_train_new,\n",
    "    epochs=epochs_new,\n",
    "    batch_size=batch_size_new,\n",
    "    validation_data=(X_val_new, y_val_new)\n",
    ")\n"
   ]
  },
  {
   "cell_type": "code",
   "execution_count": 55,
   "id": "da342c3c",
   "metadata": {},
   "outputs": [
    {
     "name": "stdout",
     "output_type": "stream",
     "text": [
      "1/1 [==============================] - 2s 2s/step\n",
      "              precision    recall  f1-score   support\n",
      "\n",
      "         0.0       0.93      0.87      0.90        15\n",
      "         1.0       0.00      0.00      0.00         1\n",
      "\n",
      "    accuracy                           0.81        16\n",
      "   macro avg       0.46      0.43      0.45        16\n",
      "weighted avg       0.87      0.81      0.84        16\n",
      "\n"
     ]
    }
   ],
   "source": [
    "# Validation for the new model and data\n",
    "val_preds_new = model_new.predict(X_val_new).flatten()\n",
    "val_preds_binary_new = (val_preds_new > 0.5).astype(int)\n",
    "\n",
    "# Print classification report for the new data\n",
    "print(classification_report(y_val_new, val_preds_binary_new))\n"
   ]
  },
  {
   "cell_type": "code",
   "execution_count": 58,
   "id": "b3321f76",
   "metadata": {},
   "outputs": [
    {
     "name": "stdout",
     "output_type": "stream",
     "text": [
      "Mean Squared Error (MSE): 0.1899\n",
      "Mean Absolute Error (MAE): 0.2003\n",
      "R-squared (R2) Score: -2.2408\n"
     ]
    }
   ],
   "source": [
    "# Calculating Mean Squared Error (MSE) for the new model and data\n",
    "mse_new = mean_squared_error(y_val_new, val_preds_new)\n",
    "print(f\"Mean Squared Error (MSE): {mse_new:.4f}\")\n",
    "\n",
    "# Calculating Mean Absolute Error (MAE) for the new model and data\n",
    "mae_new = mean_absolute_error(y_val_new, val_preds_new)\n",
    "print(f\"Mean Absolute Error (MAE): {mae_new:.4f}\")\n",
    "\n",
    "# Calculating R-squared (R2) score for the new model and data\n",
    "r2_new = r2_score(y_val_new, val_preds_new)\n",
    "print(f\"R-squared (R2) Score: {r2_new:.4f}\")"
   ]
  },
  {
   "cell_type": "code",
   "execution_count": 59,
   "id": "984037b3",
   "metadata": {},
   "outputs": [
    {
     "name": "stdout",
     "output_type": "stream",
     "text": [
      "1/1 [==============================] - 1s 1s/step\n",
      "Sentence: Had a wonderful time in hull today\n",
      "Predicted Label: 0\n",
      "Probability: 0.0002\n",
      "\n",
      "Sentence: there is a fire in the south street we need the your assistance @HumbersideFire\n",
      "Predicted Label: 1\n",
      "Probability: 0.9995\n",
      "\n",
      "Sentence: The kids are lighting fireworks in pearson park it is really dangerous\n",
      "Predicted Label: 0\n",
      "Probability: 0.0007\n",
      "\n",
      "Sentence: I see smoke coming from the paragon station\n",
      "Predicted Label: 1\n",
      "Probability: 0.9995\n",
      "\n",
      "Sentence: Some teenager are jumping off the bridge into the water\n",
      "Predicted Label: 0\n",
      "Probability: 0.0002\n",
      "\n",
      "Sentence: There is no incident in the beverly road\n",
      "Predicted Label: 0\n",
      "Probability: 0.0003\n",
      "\n"
     ]
    }
   ],
   "source": [
    "# Sample list of sentences\n",
    "sentences_new = [\"Had a wonderful time in hull today\", \"there is a fire in the south street we need the your assistance @HumbersideFire\", \"The kids are lighting fireworks in pearson park it is really dangerous\", \"I see smoke coming from the paragon station\", \"Some teenager are jumping off the bridge into the water\", \"There is no incident in the beverly road\"]\n",
    "# Tokenize the list of sentences for the new model\n",
    "input_sequences_new = tokenizer_new.texts_to_sequences(sentences_new)\n",
    "input_sequences_new = pad_sequences(input_sequences_new, padding='post', truncating='post', maxlen=128)\n",
    "\n",
    "# Make predictions for the input sequences using the new model\n",
    "predictions_new = model_new.predict(input_sequences_new).flatten()\n",
    "\n",
    "# Apply a threshold (e.g., 0.5) to get binary predictions for the new model\n",
    "predicted_labels_new = (predictions_new > 0.5).astype(int)\n",
    "\n",
    "# Print results for the new model\n",
    "for sentence, label, prob in zip(sentences_new, predicted_labels_new, predictions_new):\n",
    "    print(f\"Sentence: {sentence}\")\n",
    "    print(f\"Predicted Label: {label}\")\n",
    "    print(f\"Probability: {prob:.4f}\")\n",
    "    print()"
   ]
  },
  {
   "cell_type": "code",
   "execution_count": null,
   "id": "fc42acd0",
   "metadata": {},
   "outputs": [],
   "source": []
  },
  {
   "cell_type": "code",
   "execution_count": null,
   "id": "20dfc73a",
   "metadata": {},
   "outputs": [],
   "source": []
  },
  {
   "cell_type": "code",
   "execution_count": null,
   "id": "5fabb3b2",
   "metadata": {},
   "outputs": [],
   "source": []
  },
  {
   "cell_type": "code",
   "execution_count": null,
   "id": "74d6b463",
   "metadata": {},
   "outputs": [],
   "source": []
  },
  {
   "cell_type": "code",
   "execution_count": null,
   "id": "b85e5db0",
   "metadata": {},
   "outputs": [],
   "source": []
  }
 ],
 "metadata": {
  "kernelspec": {
   "display_name": "Python 3 (ipykernel)",
   "language": "python",
   "name": "python3"
  },
  "language_info": {
   "codemirror_mode": {
    "name": "ipython",
    "version": 3
   },
   "file_extension": ".py",
   "mimetype": "text/x-python",
   "name": "python",
   "nbconvert_exporter": "python",
   "pygments_lexer": "ipython3",
   "version": "3.9.18"
  }
 },
 "nbformat": 4,
 "nbformat_minor": 5
}
